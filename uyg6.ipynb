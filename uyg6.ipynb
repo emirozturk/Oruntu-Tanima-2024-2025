{
 "cells": [
  {
   "cell_type": "markdown",
   "id": "5a847231",
   "metadata": {},
   "source": [
    "# Python'da Görüntü İşlemeye Giriş\n",
    "Python'da görüntü işleme işlemleri sıklıkla kullanılan iki modül:\n",
    "* pillow\n",
    "* OpenCV\n",
    "\n",
    "## Pillow\n",
    "Python Imaging Library’nin geliştirilmiş versiyonudur. Basit görüntü işlemleri (açma, kaydetme, boyutlandırma, filtreleme) için kullanılır.\n",
    "## OpenCV\n",
    " Görüntü işleme ve bilgisayarla görme (computer vision) uygulamaları için güçlü bir kütüphanedir. Gerçek zamanlı görüntü işleme, yüz tanıma, video analizi gibi alanlarda da kullanılır."
   ]
  },
  {
   "cell_type": "code",
   "execution_count": null,
   "id": "9b059621",
   "metadata": {
    "vscode": {
     "languageId": "powershell"
    }
   },
   "outputs": [],
   "source": [
    "pip install pillow opencv-python"
   ]
  },
  {
   "cell_type": "markdown",
   "id": "5d3a28d3",
   "metadata": {},
   "source": [
    "## Bir görüntüyü açma"
   ]
  },
  {
   "cell_type": "code",
   "execution_count": null,
   "id": "8a07c8dc",
   "metadata": {},
   "outputs": [],
   "source": [
    "from PIL import Image\n",
    "\n",
    "# Görüntü aç\n",
    "img = Image.open(\"resim.jpg\")\n",
    "\n",
    "# Görüntü bilgisi\n",
    "print(img.format, img.size, img.mode)\n",
    "\n",
    "# Görüntüyü göster\n",
    "img.show()"
   ]
  },
  {
   "cell_type": "markdown",
   "id": "c9db2a15",
   "metadata": {},
   "source": [
    "## Görsel boyutlandırma"
   ]
  },
  {
   "cell_type": "code",
   "execution_count": null,
   "id": "a25fc251",
   "metadata": {},
   "outputs": [],
   "source": [
    "resized = img.resize((200, 200))\n",
    "resized.show()"
   ]
  },
  {
   "cell_type": "markdown",
   "id": "2d694c06",
   "metadata": {},
   "source": [
    "## Gri Tonlamaya Çevirme"
   ]
  },
  {
   "cell_type": "code",
   "execution_count": null,
   "id": "f4c24202",
   "metadata": {},
   "outputs": [],
   "source": [
    "# Resmi gri tonlamaya çevir\n",
    "gray = img.convert(\"L\")\n",
    "gray.show()"
   ]
  },
  {
   "cell_type": "markdown",
   "id": "45f7244b",
   "metadata": {},
   "source": [
    "## Görüntüyü kaydetme"
   ]
  },
  {
   "cell_type": "code",
   "execution_count": null,
   "id": "9574f8c7",
   "metadata": {},
   "outputs": [],
   "source": [
    "gray.save(\"gri_pillow.jpg\",format=\"JPEG\", quality=10)"
   ]
  },
  {
   "cell_type": "code",
   "execution_count": null,
   "id": "d5c7f8d0",
   "metadata": {},
   "outputs": [],
   "source": [
    "from PIL import Image, ImageFilter, ImageEnhance, ImageDraw\n",
    "\n",
    "# Görüntüyü döndürme\n",
    "rotated = img.rotate(45)  # 45 derece döndür\n",
    "rotated.show()\n"
   ]
  },
  {
   "cell_type": "code",
   "execution_count": null,
   "id": "5b23572e",
   "metadata": {},
   "outputs": [],
   "source": [
    "# Görüntüyü kırpma (crop)\n",
    "width, height = img.size\n",
    "# Sol üstten bir bölümü kes (left, upper, right, lower)\n",
    "cropped = img.crop((0, 0, width//2, height//2))\n",
    "cropped.show()"
   ]
  },
  {
   "cell_type": "code",
   "execution_count": null,
   "id": "18953916",
   "metadata": {},
   "outputs": [],
   "source": [
    "# Filtre uygulama\n",
    "blurred = img.filter(ImageFilter.BLUR)\n",
    "edges = img.filter(ImageFilter.FIND_EDGES)\n",
    "blurred.show()\n",
    "edges.show()"
   ]
  },
  {
   "cell_type": "code",
   "execution_count": null,
   "id": "37556e4f",
   "metadata": {},
   "outputs": [],
   "source": [
    "# Parlaklık ayarlama\n",
    "enhancer = ImageEnhance.Brightness(img)\n",
    "brightened = enhancer.enhance(1.7)  # Parlaklığı %70 artır\n",
    "brightened.show()\n"
   ]
  },
  {
   "cell_type": "code",
   "execution_count": null,
   "id": "b050af25",
   "metadata": {},
   "outputs": [],
   "source": [
    "# Kontrast ayarlama\n",
    "contrast = ImageEnhance.Contrast(img)\n",
    "high_contrast = contrast.enhance(1.7)  # Kontrastı %70 artır\n",
    "high_contrast.show()"
   ]
  },
  {
   "cell_type": "code",
   "execution_count": null,
   "id": "2451b3af",
   "metadata": {},
   "outputs": [],
   "source": [
    "# Görüntü üzerine çizim yapma\n",
    "draw_img = img.copy()\n",
    "draw = ImageDraw.Draw(draw_img)\n",
    "draw.rectangle((50, 50, 200, 200), outline=\"red\")\n",
    "draw.text((100, 100), \"Merhaba!\", fill=\"white\")\n",
    "draw_img.show()\n"
   ]
  },
  {
   "cell_type": "code",
   "execution_count": null,
   "id": "6863201d",
   "metadata": {},
   "outputs": [],
   "source": [
    "# Görüntüyü yatay ve dikey çevirme (flip)\n",
    "flipped_horizontal = img.transpose(Image.FLIP_LEFT_RIGHT)\n",
    "flipped_vertical = img.transpose(Image.FLIP_TOP_BOTTOM)\n",
    "flipped_horizontal.show()\n",
    "flipped_vertical.show()\n",
    "\n"
   ]
  },
  {
   "cell_type": "code",
   "execution_count": null,
   "id": "fda63c47",
   "metadata": {},
   "outputs": [],
   "source": [
    "# İki görüntüyü birleştirme\n",
    "width, height = img.size\n",
    "combined = Image.new('RGB', (width * 2, height))\n",
    "combined.paste(img, (0, 0))\n",
    "combined.paste(gray.convert('RGB'), (width, 0))\n",
    "combined.show()"
   ]
  },
  {
   "cell_type": "code",
   "execution_count": null,
   "id": "58710105",
   "metadata": {},
   "outputs": [],
   "source": [
    "# Thumbnail oluşturma (oranı koruyarak küçültme)\n",
    "thumbnail = img.copy()\n",
    "thumbnail.thumbnail((100, 100))  # En boy oranını koruyarak 100x100'den küçük yapar\n",
    "thumbnail.show()"
   ]
  },
  {
   "cell_type": "code",
   "execution_count": null,
   "id": "bb6fa463",
   "metadata": {},
   "outputs": [],
   "source": [
    "# Renk kanallarına erişim\n",
    "r, g, b = img.split()\n",
    "# Sadece kırmızı kanalı olan görüntü\n",
    "red_channel = Image.merge(\"RGB\", (r, g.point(lambda i: 0), b.point(lambda i: 0)))\n",
    "red_channel.show()"
   ]
  },
  {
   "cell_type": "code",
   "execution_count": null,
   "id": "dc1f5c83",
   "metadata": {},
   "outputs": [],
   "source": [
    "from PIL import ImageOps\n",
    "\n",
    "# Grayscale görüntünün renklerini tersine çevirme (inversion)\n",
    "# Burada b kanalını aldığımda gri tonlamalı görüntü elde ediyorum\n",
    "b.show()\n",
    "inverted = ImageOps.invert(b)\n",
    "inverted.show()\n",
    "\n",
    "# Histogram eşitleme ile görüntü kontrastını iyileştirme\n",
    "equalized = ImageOps.equalize(b)\n",
    "equalized.show()\n",
    "\n",
    "# Otomatik kontrast ayarı ile \"img\" görüntüsünü düzenleme\n",
    "auto_contrast = ImageOps.autocontrast(img)\n",
    "auto_contrast.show()"
   ]
  },
  {
   "cell_type": "code",
   "execution_count": null,
   "id": "5a2d2642",
   "metadata": {},
   "outputs": [],
   "source": [
    "def apply_sepia(input_image):\n",
    "    sepia = input_image.copy()\n",
    "    sepia = sepia.convert(\"RGB\")\n",
    "    width, height = sepia.size\n",
    "    pixels = sepia.load()\n",
    "    \n",
    "    for y in range(height):\n",
    "        for x in range(width):\n",
    "            r, g, b = sepia.getpixel((x, y))\n",
    "            tr = int(0.393 * r + 0.769 * g + 0.189 * b)\n",
    "            tg = int(0.349 * r + 0.686 * g + 0.168 * b)\n",
    "            tb = int(0.272 * r + 0.534 * g + 0.131 * b)\n",
    "            pixels[x, y] = (min(tr, 255), min(tg, 255), min(tb, 255))\n",
    "    \n",
    "    return sepia\n",
    "\n",
    "sepia_image = apply_sepia(img)\n",
    "sepia_image.show()"
   ]
  },
  {
   "cell_type": "code",
   "execution_count": null,
   "id": "faac6733",
   "metadata": {},
   "outputs": [],
   "source": [
    "# Y,Cb,Cr renk uzayına dönüştür ve kanalları tek tek göster\n",
    "ycbcr = img.convert(\"YCbCr\")\n",
    "y, cb, cr = ycbcr.split()\n",
    "y.show()\n",
    "cb.show()\n",
    "cr.show()\n"
   ]
  },
  {
   "cell_type": "code",
   "execution_count": null,
   "id": "73d9ad35",
   "metadata": {},
   "outputs": [],
   "source": [
    "# --- YCbCr Kanallarının Görselleştirilmesi---\n",
    "\n",
    "ycbcr = img.convert(\"YCbCr\")\n",
    "y, cb, cr = ycbcr.split()\n",
    "\n",
    "\n",
    "# Y is luminance, its most direct representation is grayscale.\n",
    "y.show(title=\"Y Channel (Luminance)\")\n",
    "\n",
    "print(\"Displaying Cb channel (Blue Difference - Color Visualization)\")\n",
    "# Create constant channels for Y (mid-gray) and Cr (neutral chroma)\n",
    "# 128 is the midpoint for 8-bit Y and the neutral value for Cb/Cr\n",
    "mid_luma = Image.new('L', cb.size, 128)\n",
    "neutral_cr = Image.new('L', cb.size, 128)\n",
    "\n",
    "# Merge channels: Y=constant(128), Cb=variable, Cr=constant(128)\n",
    "# This shows how Cb varies from neutral blue/yellow at mid-luminance\n",
    "cb_color_vis_ycbcr = Image.merge('YCbCr', (mid_luma, cb, neutral_cr))\n",
    "\n",
    "# Convert back to RGB for display\n",
    "cb_color_vis_rgb = cb_color_vis_ycbcr.convert('RGB')\n",
    "cb_color_vis_rgb.show(title=\"Cb Visualization (Y=128, Cr=128)\")\n",
    "\n",
    "\n",
    "\n",
    "print(\"Displaying Cr channel (Red Difference - Color Visualization)\")\n",
    "# Create constant channel for Cb (neutral chroma)\n",
    "# We can reuse mid_luma from before\n",
    "neutral_cb = Image.new('L', cr.size, 128)\n",
    "\n",
    "# Merge channels: Y=constant(128), Cb=constant(128), Cr=variable\n",
    "# This shows how Cr varies from neutral red/cyan at mid-luminance\n",
    "cr_color_vis_ycbcr = Image.merge('YCbCr', (mid_luma, neutral_cb, cr))\n",
    "\n",
    "# Convert back to RGB for display\n",
    "cr_color_vis_rgb = cr_color_vis_ycbcr.convert('RGB')\n",
    "cr_color_vis_rgb.show(title=\"Cr Visualization (Y=128, Cb=128)\")\n",
    "\n",
    "print(\"\\nExplanation:\")\n",
    "print(\" - Y Channel: Shown as grayscale, representing the image's luminance (brightness).\")\n",
    "print(\" - Cb Visualization: Shows the blue-difference component. Colors will range from blueish (low Cb) to yellowish (high Cb) around a neutral gray.\")\n",
    "print(\" - Cr Visualization: Shows the red-difference component. Colors will range from reddish (high Cr) to cyanish/greenish (low Cr) around a neutral gray.\")"
   ]
  },
  {
   "cell_type": "markdown",
   "id": "68654c31",
   "metadata": {},
   "source": [
    "## OpenCV Kullanımı"
   ]
  },
  {
   "cell_type": "code",
   "execution_count": null,
   "id": "869ba028",
   "metadata": {},
   "outputs": [],
   "source": [
    "import cv2\n",
    "\n",
    "# Görüntü aç\n",
    "img_cv = cv2.imread(\"resim.jpg\")\n",
    "\n",
    "# Görüntüyü göster\n",
    "cv2.imshow(\"Goruntu\", img_cv)\n",
    "\n",
    "# Pencereyi kapatmak için bir tuşa basılmasını bekle\n",
    "cv2.waitKey(0)\n",
    "cv2.destroyAllWindows()"
   ]
  },
  {
   "cell_type": "code",
   "execution_count": null,
   "id": "f019f86e",
   "metadata": {},
   "outputs": [],
   "source": [
    "resized_cv = cv2.resize(img_cv, (200, 200))\n",
    "cv2.imshow(\"Yeniden Boyutlandirilmis\", resized_cv)\n",
    "cv2.waitKey(0)\n",
    "cv2.destroyAllWindows()\n"
   ]
  },
  {
   "cell_type": "code",
   "execution_count": null,
   "id": "145467dc",
   "metadata": {},
   "outputs": [],
   "source": [
    "# OpenCV örnekleri\n",
    "\n",
    "# 1. img_cv görüntüsünü gri tonu formatına çevirelim.\n",
    "gray_cv = cv2.cvtColor(img_cv, cv2.COLOR_BGR2GRAY)\n",
    "cv2.imshow(\"Grayscale Image\", gray_cv)\n",
    "cv2.waitKey(0)\n",
    "cv2.destroyAllWindows()\n",
    "\n",
    "# 2. Gaussian Blur filtresi uygulayalım.\n",
    "blurred_cv = cv2.GaussianBlur(img_cv, (7, 7), 0)\n",
    "cv2.imshow(\"Gaussian Blurred Image\", blurred_cv)\n",
    "cv2.waitKey(0)\n",
    "cv2.destroyAllWindows()\n",
    "\n",
    "# 3. Canny kenar tespiti ile kenarları belirleyelim.\n",
    "edges_cv = cv2.Canny(img_cv, 100, 200)\n",
    "cv2.imshow(\"Canny Kenarları\", edges_cv)\n",
    "cv2.waitKey(0)\n",
    "cv2.destroyAllWindows()\n",
    "\n",
    "# 4. resized_cv görüntüsüne bir metin ekleyelim.\n",
    "annotated_cv = resized_cv.copy()\n",
    "cv2.putText(annotated_cv, \"Merhaba OpenCV\", (10, 30), cv2.FONT_HERSHEY_SIMPLEX, 0.8, (0, 255, 0), 2)\n",
    "cv2.imshow(\"Yazılı Image\", annotated_cv)\n",
    "cv2.waitKey(0)\n",
    "cv2.destroyAllWindows()"
   ]
  }
 ],
 "metadata": {
  "kernelspec": {
   "display_name": "oruntu",
   "language": "python",
   "name": "python3"
  },
  "language_info": {
   "codemirror_mode": {
    "name": "ipython",
    "version": 3
   },
   "file_extension": ".py",
   "mimetype": "text/x-python",
   "name": "python",
   "nbconvert_exporter": "python",
   "pygments_lexer": "ipython3",
   "version": "3.11.11"
  }
 },
 "nbformat": 4,
 "nbformat_minor": 5
}
